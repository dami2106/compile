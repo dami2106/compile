{
 "cells": [
  {
   "cell_type": "code",
   "execution_count": 62,
   "metadata": {},
   "outputs": [],
   "source": [
    "import pandas as pd\n",
    "import numpy as np\n",
    "from random import shuffle"
   ]
  },
  {
   "cell_type": "code",
   "execution_count": null,
   "metadata": {},
   "outputs": [
    {
     "name": "stdout",
     "output_type": "stream",
     "text": [
      "{'green': 'top', 'blue': 'middle', 'red': 'bottom'}\n"
     ]
    },
    {
     "data": {
      "text/plain": [
       "['bottom',\n",
       " 'bottom',\n",
       " 'bottom',\n",
       " 'top',\n",
       " 'top',\n",
       " 'top',\n",
       " 'top',\n",
       " 'top',\n",
       " 'top',\n",
       " 'middle',\n",
       " 'middle',\n",
       " 'middle']"
      ]
     },
     "execution_count": 69,
     "metadata": {},
     "output_type": "execute_result"
    }
   ],
   "source": [
    "def reverse_3d_obs(new_obs):\n",
    "    size = new_obs.shape[1]  # Assuming new_obs is of shape (4, size, size)\n",
    "    obs = np.zeros((size, size), dtype=np.uint8)\n",
    "\n",
    "    # Map objects from new_obs back into obs\n",
    "    for layer, value in enumerate([1, 2, 3, 4]):  # 1: agent, 2: red, 3: green, 4: blue\n",
    "        coords = np.argwhere(new_obs[layer] == 1)\n",
    "        if coords.size > 0:  # Check if there's a non-zero entry\n",
    "            x, y = coords[0]  # Get the coordinates (only one per layer)\n",
    "            obs[x, y] = value\n",
    "\n",
    "    return obs\n",
    "\n",
    "def classify_positions(color_coords):\n",
    "    # Sort colors by the row index of their coordinates\n",
    "    sorted_colors = sorted(color_coords.items(), key=lambda item: item[1][0])\n",
    "    \n",
    "    # Assign top, middle, and bottom based on sorted order\n",
    "    classifications = {\n",
    "        sorted_colors[0][0]: \"top\",\n",
    "        sorted_colors[1][0]: \"middle\",\n",
    "        sorted_colors[2][0]: \"bottom\"\n",
    "    }\n",
    "    \n",
    "    return classifications\n",
    "\n",
    "def analyze_pickups(flat_states):\n",
    "\n",
    "    positions = {\n",
    "        \"red\": np.argwhere(flat_states[0] == 2)[0],\n",
    "        \"green\": np.argwhere(flat_states[0] == 3)[0],\n",
    "        \"blue\": np.argwhere(flat_states[0] == 4)[0]\n",
    "    }\n",
    "\n",
    "    classifications = classify_positions(positions)\n",
    "\n",
    "    simple_states = []\n",
    "    for trace in flat_states:\n",
    "        simple_states.append(get_simple_obs(trace))\n",
    "\n",
    "    simple_states = np.array(simple_states)\n",
    "\n",
    "    objectives = determine_objectives(simple_states)\n",
    "\n",
    "    directions = []\n",
    "\n",
    "    for obj in objectives:\n",
    "        directions.append(classifications[obj])\n",
    "    \n",
    "    return directions\n",
    "\n",
    "analyze_pickups(norm_traces) "
   ]
  }
 ],
 "metadata": {
  "kernelspec": {
   "display_name": "scraper",
   "language": "python",
   "name": "python3"
  },
  "language_info": {
   "codemirror_mode": {
    "name": "ipython",
    "version": 3
   },
   "file_extension": ".py",
   "mimetype": "text/x-python",
   "name": "python",
   "nbconvert_exporter": "python",
   "pygments_lexer": "ipython3",
   "version": "3.12.7"
  }
 },
 "nbformat": 4,
 "nbformat_minor": 2
}

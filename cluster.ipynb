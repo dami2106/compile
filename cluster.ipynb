{
 "cells": [
  {
   "cell_type": "code",
   "execution_count": 12,
   "metadata": {},
   "outputs": [],
   "source": [
    "import numpy as np\n",
    "from sklearn.cluster import KMeans\n",
    "import matplotlib.pyplot as plt"
   ]
  },
  {
   "cell_type": "code",
   "execution_count": 13,
   "metadata": {},
   "outputs": [],
   "source": [
    "skills1 = [ \n",
    "[-0.6207, -1.1417, -1.2922,  0.0768],   #1   -> 1\n",
    "[ 0.8630,  0.6664, -1.0490,  0.0814],   #2   -> 2\n",
    "[-0.4425,  1.2298,  1.2471,  0.2707],   #5   -> 3\n",
    "[-1.4064, -1.0681,  0.4347,  0.0333]    #4   -> 4\n",
    "]  \n",
    "\n",
    "skills2 = [\n",
    "[-0.6011, -1.1135, -1.2563,  0.0783],   #1   -> 1\n",
    "[ 0.9610,  0.7376, -1.2220,  0.1073],   #2   -> 2\n",
    "[-0.6011, -1.1135, -1.2563,  0.0783],   #1   -> 1\n",
    "[ 0.0362, -0.0077, -0.0941,  0.0825]    #3   -> 2\n",
    "]\n",
    "\n",
    "skills3 = [\n",
    "[ 0.9445,  0.7522, -1.2116,  0.1189],   #2   -> 2\n",
    "[-0.6207, -1.1417, -1.2922,  0.0768],   #1   -> 1\n",
    "[ 1.2541, -0.3717,  0.8022, -0.0909],   #3   -> 2\n",
    "[ 0.0362, -0.0077, -0.0941,  0.0825]    #2   -> 2\n",
    "]"
   ]
  },
  {
   "cell_type": "code",
   "execution_count": 14,
   "metadata": {},
   "outputs": [
    {
     "name": "stderr",
     "output_type": "stream",
     "text": [
      "/home/nightless/anaconda3/envs/bnp_options/lib/python3.8/site-packages/sklearn/cluster/_kmeans.py:1416: FutureWarning: The default value of `n_init` will change from 10 to 'auto' in 1.4. Set the value of `n_init` explicitly to suppress the warning\n",
      "  super()._check_params_vs_input(X, default_n_init=10)\n"
     ]
    }
   ],
   "source": [
    "# Combine all skills data\n",
    "skills = np.array(skills1 + skills2)\n",
    "\n",
    "# Perform K-means clustering\n",
    "kmeans = KMeans(n_clusters=4, random_state=42)\n",
    "kmeans.fit(skills)\n",
    "\n",
    "# Get cluster labels and centroids\n",
    "labels = kmeans.labels_\n",
    "centroids = kmeans.cluster_centers_"
   ]
  },
  {
   "cell_type": "code",
   "execution_count": 15,
   "metadata": {},
   "outputs": [
    {
     "name": "stdout",
     "output_type": "stream",
     "text": [
      "Datapoints and their corresponding clusters:\n",
      "Datapoint 1: [-0.6207 -1.1417 -1.2922  0.0768] - Cluster 1\n",
      "Datapoint 2: [ 0.863   0.6664 -1.049   0.0814] - Cluster 2\n",
      "Datapoint 3: [-0.4425  1.2298  1.2471  0.2707] - Cluster 3\n",
      "Datapoint 4: [-1.4064 -1.0681  0.4347  0.0333] - Cluster 4\n",
      "Datapoint 5: [-0.6011 -1.1135 -1.2563  0.0783] - Cluster 1\n",
      "Datapoint 6: [ 0.961   0.7376 -1.222   0.1073] - Cluster 2\n",
      "Datapoint 7: [-0.6011 -1.1135 -1.2563  0.0783] - Cluster 1\n",
      "Datapoint 8: [ 0.0362 -0.0077 -0.0941  0.0825] - Cluster 2\n"
     ]
    }
   ],
   "source": [
    "# Print datapoints with their corresponding clusters\n",
    "print(\"Datapoints and their corresponding clusters:\")\n",
    "for i, (datapoint, label) in enumerate(zip(skills, labels)):\n",
    "    print(f\"Datapoint {i + 1}: {datapoint} - Cluster {label + 1}\")"
   ]
  },
  {
   "cell_type": "code",
   "execution_count": 16,
   "metadata": {},
   "outputs": [
    {
     "name": "stdout",
     "output_type": "stream",
     "text": [
      "\n",
      "New datapoint [0.9445, 0.7522, -1.2116, 0.1189] belongs to Cluster 2\n",
      "\n",
      "New datapoint [-0.6207, -1.1417, -1.2922, 0.0768] belongs to Cluster 1\n",
      "\n",
      "New datapoint [1.2541, -0.3717, 0.8022, -0.0909] belongs to Cluster 2\n",
      "\n",
      "New datapoint [0.0362, -0.0077, -0.0941, 0.0825] belongs to Cluster 2\n"
     ]
    }
   ],
   "source": [
    "def predict_cluster(model, new_datapoint):\n",
    "    cluster = model.predict([new_datapoint])[0]\n",
    "    return cluster + 1  # Adding 1 to make it 1-indexed\n",
    "\n",
    "for p in skills3:\n",
    "    predicted_cluster = predict_cluster(kmeans, p)\n",
    "    print(f\"\\nNew datapoint {p} belongs to Cluster {predicted_cluster}\")"
   ]
  }
 ],
 "metadata": {
  "kernelspec": {
   "display_name": "bnp_options",
   "language": "python",
   "name": "python3"
  },
  "language_info": {
   "codemirror_mode": {
    "name": "ipython",
    "version": 3
   },
   "file_extension": ".py",
   "mimetype": "text/x-python",
   "name": "python",
   "nbconvert_exporter": "python",
   "pygments_lexer": "ipython3",
   "version": "3.8.19"
  }
 },
 "nbformat": 4,
 "nbformat_minor": 2
}
